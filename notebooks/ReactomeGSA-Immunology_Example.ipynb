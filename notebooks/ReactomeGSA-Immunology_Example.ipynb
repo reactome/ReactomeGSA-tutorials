{
 "cells": [
  {
   "cell_type": "markdown",
   "id": "3cbf1599-5599-4f2f-973f-9141a2ed19d5",
   "metadata": {},
   "source": [
    "# ReactomeGSA - Atopic Dermatitis Example (analysing GEO datasets)\n",
    "\n",
    "This notebook showcases how to use the `ReactomeGSA` package to compare three studies studying the effect of biologics / small molecules as treatment for atopic dermatitis.\n",
    "\n",
    "All of these three datasets are available on GEO. Most of the notebook centers around how to retrieve these datasets and format them to be used with `ReactomeGSA`."
   ]
  },
  {
   "cell_type": "markdown",
   "id": "cfe2c9c3-01dd-45a4-a1bc-d4c66b068bb9",
   "metadata": {},
   "source": [
    "## Setup\n",
    "\n",
    "The `ReactomeGSA` R package is available through Bioconductor.\n",
    "\n",
    "The following code installs `BiocManager` (if not yet available), which is Bioconductor's tool to install the respective packages."
   ]
  },
  {
   "cell_type": "code",
   "execution_count": 1,
   "id": "a409a8f0-b24b-4e1b-9e36-ebac6e4978a8",
   "metadata": {},
   "outputs": [
    {
     "name": "stderr",
     "output_type": "stream",
     "text": [
      "Loading required package: ReactomeGSA\n",
      "\n"
     ]
    }
   ],
   "source": [
    "# Check if BiocManager is installed, if not, install it\n",
    "if (!requireNamespace(\"BiocManager\", quietly = TRUE))\n",
    "    install.packages(\"BiocManager\")\n",
    "\n",
    "# Check if the ReactomeGSA package is available, if not, install it using BiocManager\n",
    "if (!require(\"ReactomeGSA\"))\n",
    "    BiocManager::install(\"ReactomeGSA\")"
   ]
  },
  {
   "cell_type": "code",
   "execution_count": 2,
   "id": "7999f362-1da5-4055-b4ad-c63c57f2287d",
   "metadata": {
    "tags": []
   },
   "outputs": [],
   "source": [
    "# additionally, load the tidyverse packages\n",
    "suppressPackageStartupMessages({\n",
    "    library(tidyr)\n",
    "    library(readr)\n",
    "    library(dplyr)\n",
    "    library(ggplot2)\n",
    "    \n",
    "    # we will use GEOquery to download metadata and sample data from GEO\n",
    "    library(GEOquery)\n",
    "})"
   ]
  },
  {
   "cell_type": "markdown",
   "id": "1fa7be27-ef5d-44ac-a693-20c03f4d5046",
   "metadata": {},
   "source": [
    "# ReactomeGSA Usage\n",
    "\n",
    "`ReactomeGSA` supports several 'omics data types as input. The complete list of suported data types can be retrieved using the `get_reactome_data_types()` function."
   ]
  },
  {
   "cell_type": "code",
   "execution_count": 3,
   "id": "6d8d81e8-fcbd-477b-b967-b7a1c8e56749",
   "metadata": {
    "tags": []
   },
   "outputs": [
    {
     "name": "stdout",
     "output_type": "stream",
     "text": [
      "rnaseq_counts:\n",
      "   RNA-seq (raw counts) \n",
      "   Raw RNA-seq based read counts per gene (recommended). \n",
      "rnaseq_norm:\n",
      "   RNA-seq (normalized) \n",
      "   log2 transformed, normalized RNA-seq based read counts per gene (f.e. RPKM, TPM) \n",
      "proteomics_int:\n",
      "   Proteomics (intensity) \n",
      "   Intensity-based quantitative proteomics data (for example, iTRAQ/TMT or intensity-based label-free quantitation). Values must be log2 transformed. \n",
      "proteomics_sc:\n",
      "   Proteomics (spectral counts) \n",
      "   Raw spectral-counts of label-free proteomics experiments \n",
      "microarray_norm:\n",
      "   Microarray (normalized) \n",
      "   Normalized and log2 transformed microarray-based gene expression values. \n"
     ]
    }
   ],
   "source": [
    "# disply all supported 'omics data types\n",
    "get_reactome_data_types()"
   ]
  },
  {
   "cell_type": "markdown",
   "id": "b727d5f6-e711-44e2-a1c6-d402887d1653",
   "metadata": {},
   "source": [
    "Additionally, `ReactomeGSA` supports several pathway analysis methods. Generally, we recommend to use `PADOG` for classical two-group comparisons as it is most likely to rank relevant pathways at the top (ie. with lower p-values).\n",
    "\n",
    "Camera also performs two-group comparisons but is significantly faster than PADOG - which is the reason we use it in this vignette."
   ]
  },
  {
   "cell_type": "code",
   "execution_count": 4,
   "id": "bba9d618-6720-4a69-8ca0-5f4b14848442",
   "metadata": {},
   "outputs": [
    {
     "name": "stdout",
     "output_type": "stream",
     "text": [
      "PADOG: Weighted gene set analysis method that down-weighs genes that are present in many pathways.\n",
      "Camera: A gene set analysis algorithm similar to the classical GSEA algorithm as implemented in the limma package\n",
      "ssGSEA: The ssGSEA approach to derive pathway expression values for every sample. Note: The Reactome visualization is only available for up to 15 samples.\n"
     ]
    }
   ],
   "source": [
    "# List all available pathway analysis methods\n",
    "get_reactome_methods()"
   ]
  },
  {
   "cell_type": "code",
   "execution_count": 5,
   "id": "6b19a62f-fbe7-4379-a42c-976a306e8f7f",
   "metadata": {},
   "outputs": [
    {
     "name": "stdout",
     "output_type": "stream",
     "text": [
      "+--------+\n",
      "| PADOG: |\n",
      "+--------+\n",
      "\n",
      "Weighted gene set analysis method that down-weighs genes that are present in many pathways. \n",
      "\n",
      "Parameters:\n",
      "- use_interactors\n",
      "  Type: bool\n",
      "  Default: False\n",
      "  Scope: analysis\n",
      "  Description: Indicates whether interactors from IntAct should be used to extent REACTOME's pathways in the analysis.\n",
      "- include_disease_pathways\n",
      "  Type: bool\n",
      "  Default: True\n",
      "  Scope: analysis\n",
      "  Description: Disease pathways in Reactome may lead to a skewed analysis result. Note: Excluding disease pathways currently prevents the visualization of results in the Reactome pathway browser.\n",
      "- max_missing_values\n",
      "  Type: float\n",
      "  Default: 0.5\n",
      "  Scope: dataset\n",
      "  Description: The maximum (relative) number of missing values within one comparison group before a gene / protein is removed from analysis. If no comparison groups are defined (for example for 'ssGSEA', the number of missing values accross all samples is used. Must be between 0-1.\n",
      "- create_reactome_visualization\n",
      "  Type: bool\n",
      "  Default: True\n",
      "  Scope: common\n",
      "  Description: If set to 'False', no REACTOME visualization is created for the performed analysis.\n",
      "- create_reports\n",
      "  Type: bool\n",
      "  Default: False\n",
      "  Scope: common\n",
      "  Description: If set to 'True', additional Microsoft Excel and PDF-based reports of the analysis result will be created.\n",
      "- email\n",
      "  Type: string\n",
      "  Default: \n",
      "  Scope: common\n",
      "  Description: If set to a valid e-mail address, links to the analysis result (and report) will be sent once the analysis is complete.\n",
      "- reactome_server\n",
      "  Type: string\n",
      "  Default: production\n",
      "  Scope: common\n",
      "  Description: This parameter allows the usage of other reactome servers. Available options are 'production', 'dev', 'release'\n",
      "- sample_groups\n",
      "  Type: string\n",
      "  Default: \n",
      "  Scope: dataset\n",
      "  Description: Specifies the sample property name that holds the sample group information. This parameter should be used for matched-pair analyses (f.e., the same patients before and after therapy). If used, every sample must occur exactly twice, once in each of the analysis groups.\n",
      "- discrete_norm_function\n",
      "  Type: string\n",
      "  Default: TMM\n",
      "  Scope: dataset\n",
      "  Allowed values: TMM, RLE, upperquartile, none\n",
      "  Description: The normalisation function to use for raw RNA-seq read counts and raw Proteomics spectral counts. By default, the TMM normalisation is used.\n",
      "- continuous_norm_function\n",
      "  Type: string\n",
      "  Default: none\n",
      "  Scope: dataset\n",
      "  Allowed values: none, scale, quantile, cyclicloess\n",
      "  Description: The normalisation function to use for proteomics intensity data. Note that it is generally advised that normalisation is performed on the PSM or peptide level and not on the protein level.\n",
      "\n"
     ]
    }
   ],
   "source": [
    "# in order to get some detailed informations about a specific function, set the\n",
    "# `print_details` argument to TRUE\n",
    "get_reactome_methods(method = \"PADOG\", print_details = TRUE)"
   ]
  },
  {
   "cell_type": "markdown",
   "id": "4c5906fb-92c3-44d8-9b02-fefb24f2f269",
   "metadata": {},
   "source": [
    "## Example - Treatment response in atopic dermatitis\n",
    "\n",
    "In this example, we will compare the treatment effect of three tested compounds in atopic dermatitis.\n",
    "\n",
    "This example uses data from three different studies:\n",
    "\n",
    "  * GSE137430 (transcriptomics): Ungar *et al.*, Atopic dermatitis, **secukinumab** vs. control at week 16\n",
    "  * GSE140684 (microarray): Khattri *et al.*, Atopic dermatitis, **ustekinumab**, weeks 0, 4, 16, crossover at week 16, 20, and 32\n",
    "  * GSE133385 (microarray): Pavel *et al.*, **JAK/SYK Inhibitor ASN002** (20 mg, 40 mg, 80 mg, placebo), baseline, d15, d29"
   ]
  },
  {
   "cell_type": "code",
   "execution_count": 6,
   "id": "d4109421-46b9-442f-9997-33b0b604fbe6",
   "metadata": {},
   "outputs": [],
   "source": [
    "# first we need to create a ReactomeAnalysisRequest\n",
    "# Here, we use Camera to speed up the example\n",
    "requ <- ReactomeAnalysisRequest(method = \"Camera\")"
   ]
  },
  {
   "cell_type": "markdown",
   "id": "846444a8-dca1-4cd2-bb3d-ad4295060090",
   "metadata": {},
   "source": [
    "### Secukinumab\n",
    "\n",
    "The data from this study is available at GEO as **GSE137430**.\n",
    "\n",
    "The expression data is available as a compressed CSV file while the metadata is stored in GEO's format which is accessible through the `GEOquery` package."
   ]
  },
  {
   "cell_type": "code",
   "execution_count": 7,
   "id": "787db119-c01e-499a-bfbc-3a3f36f78a7a",
   "metadata": {},
   "outputs": [],
   "source": [
    "# Using readr's read_csv function we can directly \"open\" (ie. download) a file from GEO\n",
    "suppressMessages({\n",
    "    secu_expr <- read_csv(\"https://www.ncbi.nlm.nih.gov/geo/download/?acc=GSE137430&format=file&file=GSE137430_exp.csv.gz\")\n",
    "})"
   ]
  },
  {
   "cell_type": "code",
   "execution_count": 8,
   "id": "08e1597c-06c3-4954-ac2d-9ab43d01f525",
   "metadata": {},
   "outputs": [],
   "source": [
    "# The first column contains the Gene\n",
    "colnames(secu_expr)[1] <- \"Gene\""
   ]
  },
  {
   "cell_type": "code",
   "execution_count": 9,
   "id": "f9e69a38-4f02-4256-9454-9737f1b88a3c",
   "metadata": {},
   "outputs": [],
   "source": [
    "# remove all messed up gene names - someone used MS Excel :-)\n",
    "secu_expr <- filter(.data = secu_expr, !Gene %in% c(\"1-Mar\", \"2-Mar\"))"
   ]
  },
  {
   "cell_type": "code",
   "execution_count": 10,
   "id": "0991fbde-de5a-49f8-992c-036b11226295",
   "metadata": {},
   "outputs": [
    {
     "data": {
      "text/html": [
       "<table class=\"dataframe\">\n",
       "<caption>A tibble: 5 × 5</caption>\n",
       "<thead>\n",
       "\t<tr><th scope=col>Gene</th><th scope=col>1_S1_L002_R1_001</th><th scope=col>10_S10_L003_R1_001</th><th scope=col>100_S32_L004_R1_001</th><th scope=col>101_S33_L004_R1_001</th></tr>\n",
       "\t<tr><th scope=col>&lt;chr&gt;</th><th scope=col>&lt;dbl&gt;</th><th scope=col>&lt;dbl&gt;</th><th scope=col>&lt;dbl&gt;</th><th scope=col>&lt;dbl&gt;</th></tr>\n",
       "</thead>\n",
       "<tbody>\n",
       "\t<tr><td>WASH7P      </td><td> 2.7070184</td><td> 2.8088395</td><td> 2.866055</td><td> 2.8978108</td></tr>\n",
       "\t<tr><td>MIR6859-1   </td><td> 0.5281158</td><td>-0.5754674</td><td> 0.178407</td><td> 0.7124557</td></tr>\n",
       "\t<tr><td>LOC101927589</td><td>-5.9476176</td><td>-4.4167697</td><td>-4.167368</td><td>-4.2417406</td></tr>\n",
       "\t<tr><td>LOC729737   </td><td> 3.2198006</td><td> 3.7548241</td><td> 2.694753</td><td> 3.2739592</td></tr>\n",
       "\t<tr><td>LOC102723897</td><td> 2.8821052</td><td> 2.9553699</td><td> 1.927150</td><td> 3.8995151</td></tr>\n",
       "</tbody>\n",
       "</table>\n"
      ],
      "text/latex": [
       "A tibble: 5 × 5\n",
       "\\begin{tabular}{lllll}\n",
       " Gene & 1\\_S1\\_L002\\_R1\\_001 & 10\\_S10\\_L003\\_R1\\_001 & 100\\_S32\\_L004\\_R1\\_001 & 101\\_S33\\_L004\\_R1\\_001\\\\\n",
       " <chr> & <dbl> & <dbl> & <dbl> & <dbl>\\\\\n",
       "\\hline\n",
       "\t WASH7P       &  2.7070184 &  2.8088395 &  2.866055 &  2.8978108\\\\\n",
       "\t MIR6859-1    &  0.5281158 & -0.5754674 &  0.178407 &  0.7124557\\\\\n",
       "\t LOC101927589 & -5.9476176 & -4.4167697 & -4.167368 & -4.2417406\\\\\n",
       "\t LOC729737    &  3.2198006 &  3.7548241 &  2.694753 &  3.2739592\\\\\n",
       "\t LOC102723897 &  2.8821052 &  2.9553699 &  1.927150 &  3.8995151\\\\\n",
       "\\end{tabular}\n"
      ],
      "text/markdown": [
       "\n",
       "A tibble: 5 × 5\n",
       "\n",
       "| Gene &lt;chr&gt; | 1_S1_L002_R1_001 &lt;dbl&gt; | 10_S10_L003_R1_001 &lt;dbl&gt; | 100_S32_L004_R1_001 &lt;dbl&gt; | 101_S33_L004_R1_001 &lt;dbl&gt; |\n",
       "|---|---|---|---|---|\n",
       "| WASH7P       |  2.7070184 |  2.8088395 |  2.866055 |  2.8978108 |\n",
       "| MIR6859-1    |  0.5281158 | -0.5754674 |  0.178407 |  0.7124557 |\n",
       "| LOC101927589 | -5.9476176 | -4.4167697 | -4.167368 | -4.2417406 |\n",
       "| LOC729737    |  3.2198006 |  3.7548241 |  2.694753 |  3.2739592 |\n",
       "| LOC102723897 |  2.8821052 |  2.9553699 |  1.927150 |  3.8995151 |\n",
       "\n"
      ],
      "text/plain": [
       "  Gene         1_S1_L002_R1_001 10_S10_L003_R1_001 100_S32_L004_R1_001\n",
       "1 WASH7P        2.7070184        2.8088395          2.866055          \n",
       "2 MIR6859-1     0.5281158       -0.5754674          0.178407          \n",
       "3 LOC101927589 -5.9476176       -4.4167697         -4.167368          \n",
       "4 LOC729737     3.2198006        3.7548241          2.694753          \n",
       "5 LOC102723897  2.8821052        2.9553699          1.927150          \n",
       "  101_S33_L004_R1_001\n",
       "1  2.8978108         \n",
       "2  0.7124557         \n",
       "3 -4.2417406         \n",
       "4  3.2739592         \n",
       "5  3.8995151         "
      ]
     },
     "metadata": {},
     "output_type": "display_data"
    }
   ],
   "source": [
    "# the expression data is now stored in a classical matrix with the samples as columns\n",
    "# and genes as rows\n",
    "secu_expr[1:5, 1:5]"
   ]
  },
  {
   "cell_type": "markdown",
   "id": "45e319b8-e33a-47bc-b278-95631285b1bb",
   "metadata": {},
   "source": [
    "Note that even though this is a transcriptomics study, the values are not discrete numbers. Therefore, we know that some kind of normalisation was already performed by the authors."
   ]
  },
  {
   "cell_type": "code",
   "execution_count": 11,
   "id": "234d5e51-9420-46ce-9a7b-27a196b8aa6d",
   "metadata": {},
   "outputs": [
    {
     "name": "stderr",
     "output_type": "stream",
     "text": [
      "Found 1 file(s)\n",
      "\n",
      "GSE137430_series_matrix.txt.gz\n",
      "\n",
      "\u001b[1mRows: \u001b[22m\u001b[34m0\u001b[39m \u001b[1mColumns: \u001b[22m\u001b[34m166\u001b[39m\n",
      "\n",
      "\u001b[36m──\u001b[39m \u001b[1mColumn specification\u001b[22m \u001b[36m────────────────────────────────────────────────────────\u001b[39m\n",
      "\u001b[1mDelimiter:\u001b[22m \"\\t\"\n",
      "\u001b[31mchr\u001b[39m (166): ID_REF, GSM4079133, GSM4079134, GSM4079135, GSM4079136, GSM407913...\n",
      "\n",
      "\n",
      "\u001b[36mℹ\u001b[39m Use \u001b[30m\u001b[47m\u001b[30m\u001b[47m`spec()`\u001b[47m\u001b[30m\u001b[49m\u001b[39m to retrieve the full column specification for this data.\n",
      "\u001b[36mℹ\u001b[39m Specify the column types or set \u001b[30m\u001b[47m\u001b[30m\u001b[47m`show_col_types = FALSE`\u001b[47m\u001b[30m\u001b[49m\u001b[39m to quiet this message.\n",
      "\n",
      "File stored at: \n",
      "\n",
      "/tmp/RtmpPh9FD8/GPL20301.soft\n",
      "\n"
     ]
    }
   ],
   "source": [
    "# increase the connection buffer for getGEO\n",
    "Sys.setenv(\"VROOM_CONNECTION_SIZE\" = 512000)\n",
    "\n",
    "# we can now download the study's metadata using the getGEO function\n",
    "secu_geo <- getGEO('GSE137430')"
   ]
  },
  {
   "cell_type": "code",
   "execution_count": 12,
   "id": "44229158-08b9-4e26-a108-a2e8eba61bca",
   "metadata": {},
   "outputs": [],
   "source": [
    "# The resulting query object is a list of entries, we can always use the first since\n",
    "# we only searched for one study\n",
    "# The data is returned as an ExpressionSet object, therefore, the metadata is\n",
    "# available through the pData function\n",
    "secu_meta <- pData(secu_geo[[1]])"
   ]
  },
  {
   "cell_type": "code",
   "execution_count": 13,
   "id": "4439f583-87d5-4771-a547-0f0088af6f58",
   "metadata": {},
   "outputs": [
    {
     "data": {
      "text/html": [
       "<table class=\"dataframe\">\n",
       "<caption>A data.frame: 5 × 5</caption>\n",
       "<thead>\n",
       "\t<tr><th></th><th scope=col>title</th><th scope=col>geo_accession</th><th scope=col>status</th><th scope=col>submission_date</th><th scope=col>last_update_date</th></tr>\n",
       "\t<tr><th></th><th scope=col>&lt;chr&gt;</th><th scope=col>&lt;chr&gt;</th><th scope=col>&lt;chr&gt;</th><th scope=col>&lt;chr&gt;</th><th scope=col>&lt;chr&gt;</th></tr>\n",
       "</thead>\n",
       "<tbody>\n",
       "\t<tr><th scope=row>GSM4079133</th><td>1_S1_L002_R1_001_BL_NL    </td><td>GSM4079133</td><td>Public on Sep 01 2020</td><td>Sep 13 2019</td><td>Sep 01 2020</td></tr>\n",
       "\t<tr><th scope=row>GSM4079134</th><td>10_S10_L003_R1_001_W16_LS </td><td>GSM4079134</td><td>Public on Sep 01 2020</td><td>Sep 13 2019</td><td>Sep 01 2020</td></tr>\n",
       "\t<tr><th scope=row>GSM4079135</th><td>100_S32_L004_R1_001_W16_LS</td><td>GSM4079135</td><td>Public on Sep 01 2020</td><td>Sep 13 2019</td><td>Sep 01 2020</td></tr>\n",
       "\t<tr><th scope=row>GSM4079136</th><td>101_S33_L004_R1_001_BL_NL </td><td>GSM4079136</td><td>Public on Sep 01 2020</td><td>Sep 13 2019</td><td>Sep 01 2020</td></tr>\n",
       "\t<tr><th scope=row>GSM4079137</th><td>102_S37_L005_R1_001_BL_LS </td><td>GSM4079137</td><td>Public on Sep 01 2020</td><td>Sep 13 2019</td><td>Sep 01 2020</td></tr>\n",
       "</tbody>\n",
       "</table>\n"
      ],
      "text/latex": [
       "A data.frame: 5 × 5\n",
       "\\begin{tabular}{r|lllll}\n",
       "  & title & geo\\_accession & status & submission\\_date & last\\_update\\_date\\\\\n",
       "  & <chr> & <chr> & <chr> & <chr> & <chr>\\\\\n",
       "\\hline\n",
       "\tGSM4079133 & 1\\_S1\\_L002\\_R1\\_001\\_BL\\_NL     & GSM4079133 & Public on Sep 01 2020 & Sep 13 2019 & Sep 01 2020\\\\\n",
       "\tGSM4079134 & 10\\_S10\\_L003\\_R1\\_001\\_W16\\_LS  & GSM4079134 & Public on Sep 01 2020 & Sep 13 2019 & Sep 01 2020\\\\\n",
       "\tGSM4079135 & 100\\_S32\\_L004\\_R1\\_001\\_W16\\_LS & GSM4079135 & Public on Sep 01 2020 & Sep 13 2019 & Sep 01 2020\\\\\n",
       "\tGSM4079136 & 101\\_S33\\_L004\\_R1\\_001\\_BL\\_NL  & GSM4079136 & Public on Sep 01 2020 & Sep 13 2019 & Sep 01 2020\\\\\n",
       "\tGSM4079137 & 102\\_S37\\_L005\\_R1\\_001\\_BL\\_LS  & GSM4079137 & Public on Sep 01 2020 & Sep 13 2019 & Sep 01 2020\\\\\n",
       "\\end{tabular}\n"
      ],
      "text/markdown": [
       "\n",
       "A data.frame: 5 × 5\n",
       "\n",
       "| <!--/--> | title &lt;chr&gt; | geo_accession &lt;chr&gt; | status &lt;chr&gt; | submission_date &lt;chr&gt; | last_update_date &lt;chr&gt; |\n",
       "|---|---|---|---|---|---|\n",
       "| GSM4079133 | 1_S1_L002_R1_001_BL_NL     | GSM4079133 | Public on Sep 01 2020 | Sep 13 2019 | Sep 01 2020 |\n",
       "| GSM4079134 | 10_S10_L003_R1_001_W16_LS  | GSM4079134 | Public on Sep 01 2020 | Sep 13 2019 | Sep 01 2020 |\n",
       "| GSM4079135 | 100_S32_L004_R1_001_W16_LS | GSM4079135 | Public on Sep 01 2020 | Sep 13 2019 | Sep 01 2020 |\n",
       "| GSM4079136 | 101_S33_L004_R1_001_BL_NL  | GSM4079136 | Public on Sep 01 2020 | Sep 13 2019 | Sep 01 2020 |\n",
       "| GSM4079137 | 102_S37_L005_R1_001_BL_LS  | GSM4079137 | Public on Sep 01 2020 | Sep 13 2019 | Sep 01 2020 |\n",
       "\n"
      ],
      "text/plain": [
       "           title                      geo_accession status               \n",
       "GSM4079133 1_S1_L002_R1_001_BL_NL     GSM4079133    Public on Sep 01 2020\n",
       "GSM4079134 10_S10_L003_R1_001_W16_LS  GSM4079134    Public on Sep 01 2020\n",
       "GSM4079135 100_S32_L004_R1_001_W16_LS GSM4079135    Public on Sep 01 2020\n",
       "GSM4079136 101_S33_L004_R1_001_BL_NL  GSM4079136    Public on Sep 01 2020\n",
       "GSM4079137 102_S37_L005_R1_001_BL_LS  GSM4079137    Public on Sep 01 2020\n",
       "           submission_date last_update_date\n",
       "GSM4079133 Sep 13 2019     Sep 01 2020     \n",
       "GSM4079134 Sep 13 2019     Sep 01 2020     \n",
       "GSM4079135 Sep 13 2019     Sep 01 2020     \n",
       "GSM4079136 Sep 13 2019     Sep 01 2020     \n",
       "GSM4079137 Sep 13 2019     Sep 01 2020     "
      ]
     },
     "metadata": {},
     "output_type": "display_data"
    }
   ],
   "source": [
    "# let's have a look at the data\n",
    "secu_meta[1:5,1:5]"
   ]
  },
  {
   "cell_type": "markdown",
   "id": "395c78f7-735f-4b0b-b39b-0831fd21dc08",
   "metadata": {},
   "source": [
    "Unfortunately, the sample IDs used in the metadata are different to the sample ids used in the expression data file. Therefore, we need additional code to match them.\n",
    "\n",
    "Here, the `title` column in the metadata contains the sample ids that were used in the expression file."
   ]
  },
  {
   "cell_type": "code",
   "execution_count": 14,
   "id": "4f4c4a74-1f45-417b-829e-93d4189eb500",
   "metadata": {},
   "outputs": [],
   "source": [
    "# add the sample names found in the expression table to the metadata\n",
    "secu_meta$sample_id <- NA\n",
    "\n",
    "for (sample_id in colnames(secu_expr %>% dplyr::select(!\"Gene\"))) {\n",
    "    # find a match using grep\n",
    "    match_index <- grep(sample_id, secu_meta$title)\n",
    "    \n",
    "    if (length(match_index) > 0) {\n",
    "        secu_meta$sample_id[match_index] <- sample_id\n",
    "    } else {\n",
    "        message(\"No match for \", sample_id)\n",
    "    }\n",
    "}\n",
    "\n",
    "# adapt the rownames\n",
    "rownames(secu_meta) <- secu_meta$sample_id\n",
    "\n",
    "# match sort order to expression values\n",
    "secu_meta <- secu_meta[colnames(secu_expr %>% dplyr::select(!\"Gene\")), ]"
   ]
  },
  {
   "cell_type": "markdown",
   "id": "a9826292-fe4c-4add-b5da-361bee445367",
   "metadata": {},
   "source": [
    "We can now check, how many samples are available at the relevant timepoints. The study had both a treatment (= Secukinumab) and a placebo group and analysed samples at different timepoints:"
   ]
  },
  {
   "cell_type": "code",
   "execution_count": 15,
   "id": "eda15adc-bfed-4b2d-bc7a-05f34c57da27",
   "metadata": {},
   "outputs": [
    {
     "name": "stderr",
     "output_type": "stream",
     "text": [
      "`summarise()` has grouped output by 'treatment:ch1'. You can override using the `.groups` argument.\n",
      "\n"
     ]
    },
    {
     "data": {
      "text/html": [
       "<table class=\"dataframe\">\n",
       "<caption>A grouped_df: 6 × 3</caption>\n",
       "<thead>\n",
       "\t<tr><th scope=col>treatment:ch1</th><th scope=col>timepoint:ch1</th><th scope=col>n</th></tr>\n",
       "\t<tr><th scope=col>&lt;chr&gt;</th><th scope=col>&lt;chr&gt;</th><th scope=col>&lt;int&gt;</th></tr>\n",
       "</thead>\n",
       "<tbody>\n",
       "\t<tr><td>Placebo    </td><td>BL </td><td>26</td></tr>\n",
       "\t<tr><td>Placebo    </td><td>W16</td><td>17</td></tr>\n",
       "\t<tr><td>Placebo    </td><td>W4 </td><td>13</td></tr>\n",
       "\t<tr><td>Secukinumab</td><td>BL </td><td>53</td></tr>\n",
       "\t<tr><td>Secukinumab</td><td>W16</td><td>34</td></tr>\n",
       "\t<tr><td>Secukinumab</td><td>W4 </td><td>22</td></tr>\n",
       "</tbody>\n",
       "</table>\n"
      ],
      "text/latex": [
       "A grouped\\_df: 6 × 3\n",
       "\\begin{tabular}{lll}\n",
       " treatment:ch1 & timepoint:ch1 & n\\\\\n",
       " <chr> & <chr> & <int>\\\\\n",
       "\\hline\n",
       "\t Placebo     & BL  & 26\\\\\n",
       "\t Placebo     & W16 & 17\\\\\n",
       "\t Placebo     & W4  & 13\\\\\n",
       "\t Secukinumab & BL  & 53\\\\\n",
       "\t Secukinumab & W16 & 34\\\\\n",
       "\t Secukinumab & W4  & 22\\\\\n",
       "\\end{tabular}\n"
      ],
      "text/markdown": [
       "\n",
       "A grouped_df: 6 × 3\n",
       "\n",
       "| treatment:ch1 &lt;chr&gt; | timepoint:ch1 &lt;chr&gt; | n &lt;int&gt; |\n",
       "|---|---|---|\n",
       "| Placebo     | BL  | 26 |\n",
       "| Placebo     | W16 | 17 |\n",
       "| Placebo     | W4  | 13 |\n",
       "| Secukinumab | BL  | 53 |\n",
       "| Secukinumab | W16 | 34 |\n",
       "| Secukinumab | W4  | 22 |\n",
       "\n"
      ],
      "text/plain": [
       "  treatment:ch1 timepoint:ch1 n \n",
       "1 Placebo       BL            26\n",
       "2 Placebo       W16           17\n",
       "3 Placebo       W4            13\n",
       "4 Secukinumab   BL            53\n",
       "5 Secukinumab   W16           34\n",
       "6 Secukinumab   W4            22"
      ]
     },
     "metadata": {},
     "output_type": "display_data"
    }
   ],
   "source": [
    "secu_meta %>%\n",
    "    group_by(`treatment:ch1`, `timepoint:ch1`) %>%\n",
    "    summarise(n = n())"
   ]
  },
  {
   "cell_type": "code",
   "execution_count": 16,
   "id": "71ac5496-30f6-474f-8dfc-ccb3ed8a40d3",
   "metadata": {},
   "outputs": [
    {
     "data": {
      "text/plain": [
       "ExpressionSet (storageMode: lockedEnvironment)\n",
       "assayData: 23578 features, 165 samples \n",
       "  element names: exprs \n",
       "protocolData: none\n",
       "phenoData\n",
       "  sampleNames: 1_S1_L002_R1_001 10_S10_L003_R1_001 ...\n",
       "    99_S31_L004_R1_001 (165 total)\n",
       "  varLabels: title geo_accession ... sample_id (48 total)\n",
       "  varMetadata: labelDescription\n",
       "featureData: none\n",
       "experimentData: use 'experimentData(object)'\n",
       "Annotation:  "
      ]
     },
     "metadata": {},
     "output_type": "display_data"
    }
   ],
   "source": [
    "# We now merge the expression values and the metadata into a single\n",
    "# ExpressionSet object. This greatly simplifies the filtering of\n",
    "# metadata and samples.\n",
    "pdata <- new(\"AnnotatedDataFrame\", data=secu_meta)\n",
    "\n",
    "secu_eset <- ExpressionSet(\n",
    "    assayData = as.matrix(tibble::column_to_rownames(secu_expr, var = \"Gene\")), \n",
    "    phenoData = pdata)\n",
    "\n",
    "secu_eset"
   ]
  },
  {
   "cell_type": "markdown",
   "id": "884b7502-43c6-46fc-9342-2d6e0afae4a9",
   "metadata": {},
   "source": [
    "We now want to compare the placebo *vs.* the treated samples at week 16 of the study. Therefore, we limit the dataset to samples obtained at week 16 and then set the `treatment:ch1` column (which contains our treatment information) as our `comparison_factor`. We can then compare the Placebo and Secukinumab group by setting `comparison_group_1` and `comparison_group_2` accordingly."
   ]
  },
  {
   "cell_type": "code",
   "execution_count": 17,
   "id": "c7de9aa7-ba78-47bb-85fe-7f1828050180",
   "metadata": {},
   "outputs": [
    {
     "name": "stderr",
     "output_type": "stream",
     "text": [
      "Converting expression data to string... (This may take a moment)\n",
      "\n",
      "Conversion complete\n",
      "\n"
     ]
    }
   ],
   "source": [
    "requ <- add_dataset(requ, \n",
    "                    expression_values = secu_eset[, secu_eset$`timepoint:ch1` == \"W16\"], \n",
    "                    name = \"Secukinumab\", \n",
    "                    type = \"rnaseq_norm\", \n",
    "                    comparison_factor = \"treatment:ch1\", \n",
    "                    comparison_group_1 = \"Placebo\", \n",
    "                    comparison_group_2 = \"Secukinumab\")"
   ]
  },
  {
   "cell_type": "markdown",
   "id": "019b9067-9300-40df-adef-0b1a4e3828fb",
   "metadata": {},
   "source": [
    "Our `ReactomeAnalysisRequestObject` now contains the first dataset:"
   ]
  },
  {
   "cell_type": "code",
   "execution_count": 18,
   "id": "e1164590-bcad-4840-8349-d8e444986fba",
   "metadata": {},
   "outputs": [
    {
     "data": {
      "text/plain": [
       "ReactomeAnalysisRequestObject\n",
       "  Method = Camera\n",
       "  Parameters: none\n",
       "  Datasets:\n",
       "  - Secukinumab (rnaseq_norm)\n",
       "    No parameters set."
      ]
     },
     "metadata": {},
     "output_type": "display_data"
    }
   ],
   "source": [
    "requ"
   ]
  },
  {
   "cell_type": "markdown",
   "id": "079f6bae-17f6-44f3-912f-d34fdc62eb85",
   "metadata": {},
   "source": [
    "### Ustekinumab\n",
    "\n",
    "This microarray study has both its expression values, as well as its metadata available in GEO's standard format. Therefore, we can retrieve both in a single object using the `getGEO` function:"
   ]
  },
  {
   "cell_type": "code",
   "execution_count": 19,
   "id": "77442362-82f9-4352-869b-065024103c4e",
   "metadata": {},
   "outputs": [
    {
     "name": "stderr",
     "output_type": "stream",
     "text": [
      "Found 1 file(s)\n",
      "\n",
      "GSE140684_series_matrix.txt.gz\n",
      "\n",
      "\u001b[1mRows: \u001b[22m\u001b[34m54675\u001b[39m \u001b[1mColumns: \u001b[22m\u001b[34m153\u001b[39m\n",
      "\n",
      "\u001b[36m──\u001b[39m \u001b[1mColumn specification\u001b[22m \u001b[36m────────────────────────────────────────────────────────\u001b[39m\n",
      "\u001b[1mDelimiter:\u001b[22m \"\\t\"\n",
      "\u001b[31mchr\u001b[39m   (1): ID_REF\n",
      "\u001b[32mdbl\u001b[39m (152): GSM4180248, GSM4180249, GSM4180250, GSM4180251, GSM4180252, GSM41...\n",
      "\n",
      "\n",
      "\u001b[36mℹ\u001b[39m Use \u001b[30m\u001b[47m\u001b[30m\u001b[47m`spec()`\u001b[47m\u001b[30m\u001b[49m\u001b[39m to retrieve the full column specification for this data.\n",
      "\u001b[36mℹ\u001b[39m Specify the column types or set \u001b[30m\u001b[47m\u001b[30m\u001b[47m`show_col_types = FALSE`\u001b[47m\u001b[30m\u001b[49m\u001b[39m to quiet this message.\n",
      "\n"
     ]
    }
   ],
   "source": [
    "uste_gset <- getGEO(\"GSE140684\", GSEMatrix=TRUE, getGPL=FALSE)"
   ]
  },
  {
   "cell_type": "code",
   "execution_count": 20,
   "id": "53d000b9-950a-468b-beef-5de475b7eee0",
   "metadata": {},
   "outputs": [],
   "source": [
    "# change from the list to the eset object\n",
    "uste_gset <- uste_gset[[1]]"
   ]
  },
  {
   "cell_type": "code",
   "execution_count": 21,
   "id": "e49d2cf3-e931-44f0-9def-519542f4bbdd",
   "metadata": {},
   "outputs": [
    {
     "data": {
      "text/html": [
       "<table class=\"dataframe\">\n",
       "<caption>A matrix: 5 × 5 of type dbl</caption>\n",
       "<thead>\n",
       "\t<tr><th></th><th scope=col>GSM4180248</th><th scope=col>GSM4180249</th><th scope=col>GSM4180250</th><th scope=col>GSM4180251</th><th scope=col>GSM4180252</th></tr>\n",
       "</thead>\n",
       "<tbody>\n",
       "\t<tr><th scope=row>1007_s_at</th><td>11.003970</td><td>10.749789</td><td>11.053181</td><td>11.097672</td><td>10.855124</td></tr>\n",
       "\t<tr><th scope=row>1053_at</th><td> 8.921461</td><td> 8.984883</td><td> 8.966604</td><td> 8.592084</td><td> 8.665176</td></tr>\n",
       "\t<tr><th scope=row>117_at</th><td> 5.990361</td><td> 7.038691</td><td> 6.887491</td><td> 6.114766</td><td> 5.851292</td></tr>\n",
       "\t<tr><th scope=row>121_at</th><td> 5.651296</td><td> 5.398563</td><td> 5.453685</td><td> 5.608690</td><td> 4.608677</td></tr>\n",
       "\t<tr><th scope=row>1255_g_at</th><td> 2.172021</td><td> 2.172021</td><td> 2.172021</td><td> 2.172021</td><td> 2.172021</td></tr>\n",
       "</tbody>\n",
       "</table>\n"
      ],
      "text/latex": [
       "A matrix: 5 × 5 of type dbl\n",
       "\\begin{tabular}{r|lllll}\n",
       "  & GSM4180248 & GSM4180249 & GSM4180250 & GSM4180251 & GSM4180252\\\\\n",
       "\\hline\n",
       "\t1007\\_s\\_at & 11.003970 & 10.749789 & 11.053181 & 11.097672 & 10.855124\\\\\n",
       "\t1053\\_at &  8.921461 &  8.984883 &  8.966604 &  8.592084 &  8.665176\\\\\n",
       "\t117\\_at &  5.990361 &  7.038691 &  6.887491 &  6.114766 &  5.851292\\\\\n",
       "\t121\\_at &  5.651296 &  5.398563 &  5.453685 &  5.608690 &  4.608677\\\\\n",
       "\t1255\\_g\\_at &  2.172021 &  2.172021 &  2.172021 &  2.172021 &  2.172021\\\\\n",
       "\\end{tabular}\n"
      ],
      "text/markdown": [
       "\n",
       "A matrix: 5 × 5 of type dbl\n",
       "\n",
       "| <!--/--> | GSM4180248 | GSM4180249 | GSM4180250 | GSM4180251 | GSM4180252 |\n",
       "|---|---|---|---|---|---|\n",
       "| 1007_s_at | 11.003970 | 10.749789 | 11.053181 | 11.097672 | 10.855124 |\n",
       "| 1053_at |  8.921461 |  8.984883 |  8.966604 |  8.592084 |  8.665176 |\n",
       "| 117_at |  5.990361 |  7.038691 |  6.887491 |  6.114766 |  5.851292 |\n",
       "| 121_at |  5.651296 |  5.398563 |  5.453685 |  5.608690 |  4.608677 |\n",
       "| 1255_g_at |  2.172021 |  2.172021 |  2.172021 |  2.172021 |  2.172021 |\n",
       "\n"
      ],
      "text/plain": [
       "          GSM4180248 GSM4180249 GSM4180250 GSM4180251 GSM4180252\n",
       "1007_s_at 11.003970  10.749789  11.053181  11.097672  10.855124 \n",
       "1053_at    8.921461   8.984883   8.966604   8.592084   8.665176 \n",
       "117_at     5.990361   7.038691   6.887491   6.114766   5.851292 \n",
       "121_at     5.651296   5.398563   5.453685   5.608690   4.608677 \n",
       "1255_g_at  2.172021   2.172021   2.172021   2.172021   2.172021 "
      ]
     },
     "metadata": {},
     "output_type": "display_data"
    }
   ],
   "source": [
    "# view the expression values\n",
    "exprs(uste_gset)[1:5,1:5]"
   ]
  },
  {
   "cell_type": "code",
   "execution_count": 22,
   "id": "d6ab468a-496b-463d-bac3-32fbb6d99da6",
   "metadata": {},
   "outputs": [
    {
     "data": {
      "text/html": [
       "<table class=\"dataframe\">\n",
       "<caption>A data.frame: 5 × 5</caption>\n",
       "<thead>\n",
       "\t<tr><th></th><th scope=col>title</th><th scope=col>geo_accession</th><th scope=col>status</th><th scope=col>submission_date</th><th scope=col>last_update_date</th></tr>\n",
       "\t<tr><th></th><th scope=col>&lt;chr&gt;</th><th scope=col>&lt;chr&gt;</th><th scope=col>&lt;chr&gt;</th><th scope=col>&lt;chr&gt;</th><th scope=col>&lt;chr&gt;</th></tr>\n",
       "</thead>\n",
       "<tbody>\n",
       "\t<tr><th scope=row>GSM4180248</th><td>Subject2.W0.NL.Stelara</td><td>GSM4180248</td><td>Public on Nov 20 2019</td><td>Nov 19 2019</td><td>Nov 20 2019</td></tr>\n",
       "\t<tr><th scope=row>GSM4180249</th><td>Subject2.W0.LS.Stelara</td><td>GSM4180249</td><td>Public on Nov 20 2019</td><td>Nov 19 2019</td><td>Nov 20 2019</td></tr>\n",
       "\t<tr><th scope=row>GSM4180250</th><td>Subject2.W4.LS.Stelara</td><td>GSM4180250</td><td>Public on Nov 20 2019</td><td>Nov 19 2019</td><td>Nov 20 2019</td></tr>\n",
       "\t<tr><th scope=row>GSM4180251</th><td>Subject3.W0.NL.Placebo</td><td>GSM4180251</td><td>Public on Nov 20 2019</td><td>Nov 19 2019</td><td>Nov 20 2019</td></tr>\n",
       "\t<tr><th scope=row>GSM4180252</th><td>Subject3.W0.LS.Placebo</td><td>GSM4180252</td><td>Public on Nov 20 2019</td><td>Nov 19 2019</td><td>Nov 20 2019</td></tr>\n",
       "</tbody>\n",
       "</table>\n"
      ],
      "text/latex": [
       "A data.frame: 5 × 5\n",
       "\\begin{tabular}{r|lllll}\n",
       "  & title & geo\\_accession & status & submission\\_date & last\\_update\\_date\\\\\n",
       "  & <chr> & <chr> & <chr> & <chr> & <chr>\\\\\n",
       "\\hline\n",
       "\tGSM4180248 & Subject2.W0.NL.Stelara & GSM4180248 & Public on Nov 20 2019 & Nov 19 2019 & Nov 20 2019\\\\\n",
       "\tGSM4180249 & Subject2.W0.LS.Stelara & GSM4180249 & Public on Nov 20 2019 & Nov 19 2019 & Nov 20 2019\\\\\n",
       "\tGSM4180250 & Subject2.W4.LS.Stelara & GSM4180250 & Public on Nov 20 2019 & Nov 19 2019 & Nov 20 2019\\\\\n",
       "\tGSM4180251 & Subject3.W0.NL.Placebo & GSM4180251 & Public on Nov 20 2019 & Nov 19 2019 & Nov 20 2019\\\\\n",
       "\tGSM4180252 & Subject3.W0.LS.Placebo & GSM4180252 & Public on Nov 20 2019 & Nov 19 2019 & Nov 20 2019\\\\\n",
       "\\end{tabular}\n"
      ],
      "text/markdown": [
       "\n",
       "A data.frame: 5 × 5\n",
       "\n",
       "| <!--/--> | title &lt;chr&gt; | geo_accession &lt;chr&gt; | status &lt;chr&gt; | submission_date &lt;chr&gt; | last_update_date &lt;chr&gt; |\n",
       "|---|---|---|---|---|---|\n",
       "| GSM4180248 | Subject2.W0.NL.Stelara | GSM4180248 | Public on Nov 20 2019 | Nov 19 2019 | Nov 20 2019 |\n",
       "| GSM4180249 | Subject2.W0.LS.Stelara | GSM4180249 | Public on Nov 20 2019 | Nov 19 2019 | Nov 20 2019 |\n",
       "| GSM4180250 | Subject2.W4.LS.Stelara | GSM4180250 | Public on Nov 20 2019 | Nov 19 2019 | Nov 20 2019 |\n",
       "| GSM4180251 | Subject3.W0.NL.Placebo | GSM4180251 | Public on Nov 20 2019 | Nov 19 2019 | Nov 20 2019 |\n",
       "| GSM4180252 | Subject3.W0.LS.Placebo | GSM4180252 | Public on Nov 20 2019 | Nov 19 2019 | Nov 20 2019 |\n",
       "\n"
      ],
      "text/plain": [
       "           title                  geo_accession status               \n",
       "GSM4180248 Subject2.W0.NL.Stelara GSM4180248    Public on Nov 20 2019\n",
       "GSM4180249 Subject2.W0.LS.Stelara GSM4180249    Public on Nov 20 2019\n",
       "GSM4180250 Subject2.W4.LS.Stelara GSM4180250    Public on Nov 20 2019\n",
       "GSM4180251 Subject3.W0.NL.Placebo GSM4180251    Public on Nov 20 2019\n",
       "GSM4180252 Subject3.W0.LS.Placebo GSM4180252    Public on Nov 20 2019\n",
       "           submission_date last_update_date\n",
       "GSM4180248 Nov 19 2019     Nov 20 2019     \n",
       "GSM4180249 Nov 19 2019     Nov 20 2019     \n",
       "GSM4180250 Nov 19 2019     Nov 20 2019     \n",
       "GSM4180251 Nov 19 2019     Nov 20 2019     \n",
       "GSM4180252 Nov 19 2019     Nov 20 2019     "
      ]
     },
     "metadata": {},
     "output_type": "display_data"
    }
   ],
   "source": [
    "# view the metadata\n",
    "pData(uste_gset)[1:5, 1:5]"
   ]
  },
  {
   "cell_type": "markdown",
   "id": "0c2d79e0-9ca2-4421-bc8a-1c5ef85c9871",
   "metadata": {},
   "source": [
    "Again, we can summarise the number of samples per treatment group and timepoint to select our relevant comparison factors"
   ]
  },
  {
   "cell_type": "code",
   "execution_count": 23,
   "id": "ace1d934-5948-46c1-b75e-ce07578ed8f2",
   "metadata": {},
   "outputs": [
    {
     "name": "stderr",
     "output_type": "stream",
     "text": [
      "`summarise()` has grouped output by 'treatment:ch1'. You can override using the `.groups` argument.\n",
      "\n"
     ]
    },
    {
     "data": {
      "text/html": [
       "<table class=\"dataframe\">\n",
       "<caption>A grouped_df: 10 × 3</caption>\n",
       "<thead>\n",
       "\t<tr><th scope=col>treatment:ch1</th><th scope=col>timepoint:ch1</th><th scope=col>n</th></tr>\n",
       "\t<tr><th scope=col>&lt;chr&gt;</th><th scope=col>&lt;chr&gt;</th><th scope=col>&lt;int&gt;</th></tr>\n",
       "</thead>\n",
       "<tbody>\n",
       "\t<tr><td>Placebo    </td><td>W0 </td><td>24</td></tr>\n",
       "\t<tr><td>Placebo    </td><td>W16</td><td>23</td></tr>\n",
       "\t<tr><td>Placebo    </td><td>W20</td><td> 4</td></tr>\n",
       "\t<tr><td>Placebo    </td><td>W32</td><td> 9</td></tr>\n",
       "\t<tr><td>Placebo    </td><td>W4 </td><td>16</td></tr>\n",
       "\t<tr><td>Ustekinumab</td><td>W0 </td><td>28</td></tr>\n",
       "\t<tr><td>Ustekinumab</td><td>W16</td><td>20</td></tr>\n",
       "\t<tr><td>Ustekinumab</td><td>W20</td><td> 4</td></tr>\n",
       "\t<tr><td>Ustekinumab</td><td>W32</td><td> 8</td></tr>\n",
       "\t<tr><td>Ustekinumab</td><td>W4 </td><td>16</td></tr>\n",
       "</tbody>\n",
       "</table>\n"
      ],
      "text/latex": [
       "A grouped\\_df: 10 × 3\n",
       "\\begin{tabular}{lll}\n",
       " treatment:ch1 & timepoint:ch1 & n\\\\\n",
       " <chr> & <chr> & <int>\\\\\n",
       "\\hline\n",
       "\t Placebo     & W0  & 24\\\\\n",
       "\t Placebo     & W16 & 23\\\\\n",
       "\t Placebo     & W20 &  4\\\\\n",
       "\t Placebo     & W32 &  9\\\\\n",
       "\t Placebo     & W4  & 16\\\\\n",
       "\t Ustekinumab & W0  & 28\\\\\n",
       "\t Ustekinumab & W16 & 20\\\\\n",
       "\t Ustekinumab & W20 &  4\\\\\n",
       "\t Ustekinumab & W32 &  8\\\\\n",
       "\t Ustekinumab & W4  & 16\\\\\n",
       "\\end{tabular}\n"
      ],
      "text/markdown": [
       "\n",
       "A grouped_df: 10 × 3\n",
       "\n",
       "| treatment:ch1 &lt;chr&gt; | timepoint:ch1 &lt;chr&gt; | n &lt;int&gt; |\n",
       "|---|---|---|\n",
       "| Placebo     | W0  | 24 |\n",
       "| Placebo     | W16 | 23 |\n",
       "| Placebo     | W20 |  4 |\n",
       "| Placebo     | W32 |  9 |\n",
       "| Placebo     | W4  | 16 |\n",
       "| Ustekinumab | W0  | 28 |\n",
       "| Ustekinumab | W16 | 20 |\n",
       "| Ustekinumab | W20 |  4 |\n",
       "| Ustekinumab | W32 |  8 |\n",
       "| Ustekinumab | W4  | 16 |\n",
       "\n"
      ],
      "text/plain": [
       "   treatment:ch1 timepoint:ch1 n \n",
       "1  Placebo       W0            24\n",
       "2  Placebo       W16           23\n",
       "3  Placebo       W20            4\n",
       "4  Placebo       W32            9\n",
       "5  Placebo       W4            16\n",
       "6  Ustekinumab   W0            28\n",
       "7  Ustekinumab   W16           20\n",
       "8  Ustekinumab   W20            4\n",
       "9  Ustekinumab   W32            8\n",
       "10 Ustekinumab   W4            16"
      ]
     },
     "metadata": {},
     "output_type": "display_data"
    }
   ],
   "source": [
    "pData(uste_gset) %>%\n",
    "    group_by(`treatment:ch1`, `timepoint:ch1`) %>%\n",
    "    summarise(n = n())"
   ]
  },
  {
   "cell_type": "markdown",
   "id": "f446a437-fb5c-4cee-b5c6-69d18538e214",
   "metadata": {},
   "source": [
    "For this dataset, we now select the `W16` timepoint as it has the highest number of samples and again compare the Placebo against the treatment (= Ustekinumab) group:"
   ]
  },
  {
   "cell_type": "code",
   "execution_count": 24,
   "id": "848cf541-3065-4d51-9946-1e5b9fc98c2b",
   "metadata": {},
   "outputs": [
    {
     "name": "stderr",
     "output_type": "stream",
     "text": [
      "Converting expression data to string... (This may take a moment)\n",
      "\n",
      "Conversion complete\n",
      "\n"
     ]
    }
   ],
   "source": [
    "# we add a second dataset by simoly calling the add_dataset function again with the new object and information\n",
    "requ <- add_dataset(requ, \n",
    "                    expression_values = uste_gset[, uste_gset$`timepoint:ch1` == \"W16\"], \n",
    "                    name = \"Ustekinumab\", \n",
    "                    type = \"microarray_norm\", \n",
    "                    comparison_factor = \"treatment:ch1\", \n",
    "                    comparison_group_1 = \"Placebo\", \n",
    "                    comparison_group_2 = \"Ustekinumab\")"
   ]
  },
  {
   "cell_type": "markdown",
   "id": "9d00fa29-7dc5-4a40-8bc2-4795a318157f",
   "metadata": {},
   "source": [
    "### JAK Inhib.\n",
    "\n",
    "Similar to the previous study, the complete data is available through the getGEO function:"
   ]
  },
  {
   "cell_type": "code",
   "execution_count": 25,
   "id": "3c0f7772-7cbc-4019-b0cc-2fc8af47ba55",
   "metadata": {},
   "outputs": [
    {
     "name": "stderr",
     "output_type": "stream",
     "text": [
      "Found 1 file(s)\n",
      "\n",
      "GSE133385_series_matrix.txt.gz\n",
      "\n",
      "\u001b[1mRows: \u001b[22m\u001b[34m28976\u001b[39m \u001b[1mColumns: \u001b[22m\u001b[34m112\u001b[39m\n",
      "\n",
      "\u001b[36m──\u001b[39m \u001b[1mColumn specification\u001b[22m \u001b[36m────────────────────────────────────────────────────────\u001b[39m\n",
      "\u001b[1mDelimiter:\u001b[22m \"\\t\"\n",
      "\u001b[31mchr\u001b[39m   (1): ID_REF\n",
      "\u001b[32mdbl\u001b[39m (111): GSM3907370, GSM3907372, GSM3907374, GSM3907375, GSM3907376, GSM39...\n",
      "\n",
      "\n",
      "\u001b[36mℹ\u001b[39m Use \u001b[30m\u001b[47m\u001b[30m\u001b[47m`spec()`\u001b[47m\u001b[30m\u001b[49m\u001b[39m to retrieve the full column specification for this data.\n",
      "\u001b[36mℹ\u001b[39m Specify the column types or set \u001b[30m\u001b[47m\u001b[30m\u001b[47m`show_col_types = FALSE`\u001b[47m\u001b[30m\u001b[49m\u001b[39m to quiet this message.\n",
      "\n"
     ]
    }
   ],
   "source": [
    "jak_gset <- getGEO(\"GSE133385\", GSEMatrix =TRUE, getGPL=FALSE)[[1]]"
   ]
  },
  {
   "cell_type": "code",
   "execution_count": 26,
   "id": "c3aa57e6-5c17-4884-b73c-c03de48d0aa7",
   "metadata": {},
   "outputs": [
    {
     "name": "stderr",
     "output_type": "stream",
     "text": [
      "`summarise()` has grouped output by 'treatment:ch1'. You can override using the `.groups` argument.\n",
      "\n"
     ]
    },
    {
     "data": {
      "text/html": [
       "<table class=\"dataframe\">\n",
       "<caption>A grouped_df: 12 × 3</caption>\n",
       "<thead>\n",
       "\t<tr><th scope=col>treatment:ch1</th><th scope=col>week:ch1</th><th scope=col>n</th></tr>\n",
       "\t<tr><th scope=col>&lt;chr&gt;</th><th scope=col>&lt;chr&gt;</th><th scope=col>&lt;int&gt;</th></tr>\n",
       "</thead>\n",
       "<tbody>\n",
       "\t<tr><td>20mg   </td><td>Day1 </td><td>14</td></tr>\n",
       "\t<tr><td>20mg   </td><td>Day15</td><td> 4</td></tr>\n",
       "\t<tr><td>20mg   </td><td>Day29</td><td> 7</td></tr>\n",
       "\t<tr><td>40mg   </td><td>Day1 </td><td>16</td></tr>\n",
       "\t<tr><td>40mg   </td><td>Day15</td><td> 7</td></tr>\n",
       "\t<tr><td>40mg   </td><td>Day29</td><td> 6</td></tr>\n",
       "\t<tr><td>80mg   </td><td>Day1 </td><td>16</td></tr>\n",
       "\t<tr><td>80mg   </td><td>Day15</td><td> 6</td></tr>\n",
       "\t<tr><td>80mg   </td><td>Day29</td><td> 8</td></tr>\n",
       "\t<tr><td>Placebo</td><td>Day1 </td><td>14</td></tr>\n",
       "\t<tr><td>Placebo</td><td>Day15</td><td> 5</td></tr>\n",
       "\t<tr><td>Placebo</td><td>Day29</td><td> 8</td></tr>\n",
       "</tbody>\n",
       "</table>\n"
      ],
      "text/latex": [
       "A grouped\\_df: 12 × 3\n",
       "\\begin{tabular}{lll}\n",
       " treatment:ch1 & week:ch1 & n\\\\\n",
       " <chr> & <chr> & <int>\\\\\n",
       "\\hline\n",
       "\t 20mg    & Day1  & 14\\\\\n",
       "\t 20mg    & Day15 &  4\\\\\n",
       "\t 20mg    & Day29 &  7\\\\\n",
       "\t 40mg    & Day1  & 16\\\\\n",
       "\t 40mg    & Day15 &  7\\\\\n",
       "\t 40mg    & Day29 &  6\\\\\n",
       "\t 80mg    & Day1  & 16\\\\\n",
       "\t 80mg    & Day15 &  6\\\\\n",
       "\t 80mg    & Day29 &  8\\\\\n",
       "\t Placebo & Day1  & 14\\\\\n",
       "\t Placebo & Day15 &  5\\\\\n",
       "\t Placebo & Day29 &  8\\\\\n",
       "\\end{tabular}\n"
      ],
      "text/markdown": [
       "\n",
       "A grouped_df: 12 × 3\n",
       "\n",
       "| treatment:ch1 &lt;chr&gt; | week:ch1 &lt;chr&gt; | n &lt;int&gt; |\n",
       "|---|---|---|\n",
       "| 20mg    | Day1  | 14 |\n",
       "| 20mg    | Day15 |  4 |\n",
       "| 20mg    | Day29 |  7 |\n",
       "| 40mg    | Day1  | 16 |\n",
       "| 40mg    | Day15 |  7 |\n",
       "| 40mg    | Day29 |  6 |\n",
       "| 80mg    | Day1  | 16 |\n",
       "| 80mg    | Day15 |  6 |\n",
       "| 80mg    | Day29 |  8 |\n",
       "| Placebo | Day1  | 14 |\n",
       "| Placebo | Day15 |  5 |\n",
       "| Placebo | Day29 |  8 |\n",
       "\n"
      ],
      "text/plain": [
       "   treatment:ch1 week:ch1 n \n",
       "1  20mg          Day1     14\n",
       "2  20mg          Day15     4\n",
       "3  20mg          Day29     7\n",
       "4  40mg          Day1     16\n",
       "5  40mg          Day15     7\n",
       "6  40mg          Day29     6\n",
       "7  80mg          Day1     16\n",
       "8  80mg          Day15     6\n",
       "9  80mg          Day29     8\n",
       "10 Placebo       Day1     14\n",
       "11 Placebo       Day15     5\n",
       "12 Placebo       Day29     8"
      ]
     },
     "metadata": {},
     "output_type": "display_data"
    }
   ],
   "source": [
    "pData(jak_gset) %>%\n",
    "    group_by(`treatment:ch1`, `week:ch1`) %>%\n",
    "    summarise(n = n())"
   ]
  },
  {
   "cell_type": "markdown",
   "id": "a67f882a-6168-470d-8a9c-7455794d560c",
   "metadata": {},
   "source": [
    "For this study, we'll again compare the last timepoint and the highest dose (= 80 mg) with the placebo group."
   ]
  },
  {
   "cell_type": "code",
   "execution_count": 27,
   "id": "a02f9280-928e-4fac-9736-aa75310a3201",
   "metadata": {},
   "outputs": [
    {
     "name": "stderr",
     "output_type": "stream",
     "text": [
      "Converting expression data to string... (This may take a moment)\n",
      "\n",
      "Conversion complete\n",
      "\n"
     ]
    }
   ],
   "source": [
    "# add to the request\n",
    "requ <- add_dataset(requ, \n",
    "                    expression_values = jak_gset[, jak_gset$`week:ch1` == \"Day29\"], \n",
    "                    name = \"JAK\", \n",
    "                    type = \"microarray_norm\", \n",
    "                    comparison_factor = \"treatment:ch1\", \n",
    "                    comparison_group_1 = \"Placebo\", \n",
    "                    comparison_group_2 = \"80mg\")"
   ]
  },
  {
   "cell_type": "markdown",
   "id": "53986d01-c8fa-40da-9a0d-0ec436a88db1",
   "metadata": {},
   "source": [
    "### Run the analysis\n",
    "\n",
    "Our `ReactomeAnalysisRequestObject` now contains all three datasets:"
   ]
  },
  {
   "cell_type": "code",
   "execution_count": 28,
   "id": "b4fa1ec3-5e41-4850-a8b4-90c9fe41fdb9",
   "metadata": {},
   "outputs": [
    {
     "data": {
      "text/plain": [
       "ReactomeAnalysisRequestObject\n",
       "  Method = Camera\n",
       "  Parameters: none\n",
       "  Datasets:\n",
       "  - Secukinumab (rnaseq_norm)\n",
       "    No parameters set.\n",
       "  - Ustekinumab (microarray_norm)\n",
       "    No parameters set.\n",
       "  - JAK (microarray_norm)\n",
       "    No parameters set."
      ]
     },
     "metadata": {},
     "output_type": "display_data"
    }
   ],
   "source": [
    "requ"
   ]
  },
  {
   "cell_type": "markdown",
   "id": "fba107de-7009-4069-a056-ae2dbe10b5f9",
   "metadata": {},
   "source": [
    "The complete analysis is performed through the `perform_reactome_analysis` function:"
   ]
  },
  {
   "cell_type": "code",
   "execution_count": 29,
   "id": "1ef06c5f-3ccf-4635-a898-9fbb0d3e574f",
   "metadata": {
    "scrolled": true,
    "tags": []
   },
   "outputs": [
    {
     "name": "stderr",
     "output_type": "stream",
     "text": [
      "Submitting request to Reactome API...\n",
      "\n",
      "Compressing request data...\n",
      "\n",
      "Reactome Analysis submitted succesfully\n",
      "\n",
      "Queued\n",
      "\n",
      "Converting dataset Secukinumab...\n",
      "\n",
      "Converting dataset Ustekinumab...\n",
      "\n",
      "Converting dataset JAK...\n",
      "\n",
      "Mapping identifiers...\n",
      "\n",
      "Performing gene set analysis using Camera\n",
      "\n",
      "Analysing dataset 'Secukinumab' using Camera\n",
      "\n",
      "Analysing dataset 'Ustekinumab' using Camera\n",
      "\n",
      "Analysing dataset 'JAK' using Camera\n",
      "\n",
      "Creating REACTOME visualization\n",
      "\n",
      "Retrieving result...\n",
      "\n"
     ]
    }
   ],
   "source": [
    "camera_res <- perform_reactome_analysis(requ)"
   ]
  },
  {
   "cell_type": "markdown",
   "id": "ca5c27a7-67b7-4a13-9cfb-01c97b32e92c",
   "metadata": {},
   "source": [
    "### Investigate results\n",
    "\n",
    "The result is stored as a `ReactomeAnalysisResult` object. Here we can see that we have pathway analysis results for all three datasets, the used Reactome version and a Reactome visualization of our results:"
   ]
  },
  {
   "cell_type": "code",
   "execution_count": 30,
   "id": "8abceaa6-1930-4a18-83ef-c878e0696789",
   "metadata": {},
   "outputs": [
    {
     "data": {
      "text/plain": [
       "ReactomeAnalysisResult object\n",
       "  Reactome Release: 78\n",
       "  Results:\n",
       "  - Secukinumab:\n",
       "    2486 pathways\n",
       "    13546 fold changes for genes\n",
       "  - Ustekinumab:\n",
       "    2489 pathways\n",
       "    20095 fold changes for genes\n",
       "  - JAK:\n",
       "    2405 pathways\n",
       "    13957 fold changes for genes\n",
       "  Reactome visualizations:\n",
       "  - Gene Set Analysis Summary"
      ]
     },
     "metadata": {},
     "output_type": "display_data"
    }
   ],
   "source": [
    "camera_res"
   ]
  },
  {
   "cell_type": "code",
   "execution_count": 31,
   "id": "be7df8bc-ca2f-4087-aefe-ff4c2c1f0916",
   "metadata": {},
   "outputs": [
    {
     "name": "stderr",
     "output_type": "stream",
     "text": [
      "Opening https://www.reactome.org/PathwayBrowser/#/DTAB=AN&ANALYSIS=MjAyMjAzMTMxNjIxMzlfMjE4MDY%3D in the default browser...\n",
      "\n"
     ]
    },
    {
     "data": {
      "text/html": [
       "<strong>url:</strong> 'https://www.reactome.org/PathwayBrowser/#/DTAB=AN&amp;ANALYSIS=MjAyMjAzMTMxNjIxMzlfMjE4MDY%3D'"
      ],
      "text/latex": [
       "\\textbf{url:} 'https://www.reactome.org/PathwayBrowser/\\#/DTAB=AN\\&ANALYSIS=MjAyMjAzMTMxNjIxMzlfMjE4MDY\\%3D'"
      ],
      "text/markdown": [
       "**url:** 'https://www.reactome.org/PathwayBrowser/#/DTAB=AN&amp;ANALYSIS=MjAyMjAzMTMxNjIxMzlfMjE4MDY%3D'"
      ],
      "text/plain": [
       "                                                                                        url \n",
       "\"https://www.reactome.org/PathwayBrowser/#/DTAB=AN&ANALYSIS=MjAyMjAzMTMxNjIxMzlfMjE4MDY%3D\" "
      ]
     },
     "metadata": {},
     "output_type": "display_data"
    }
   ],
   "source": [
    "# using the open_reactome function we can look at the web-based visualization of the results\n",
    "# NOTE: The link is only working for around 2-4 weeks (depending on the overal usage)\n",
    "open_reactome(camera_res)"
   ]
  },
  {
   "cell_type": "markdown",
   "id": "7eba6d54-0fce-4781-8920-823f5ae72f77",
   "metadata": {},
   "source": [
    "We can retrieve all pathways using the `pathways` method. This already combines the results from all three datasets."
   ]
  },
  {
   "cell_type": "code",
   "execution_count": 32,
   "id": "19ec1e88-8128-4620-9a40-9f6afbc7eaa2",
   "metadata": {},
   "outputs": [
    {
     "data": {
      "text/html": [
       "<table class=\"dataframe\">\n",
       "<caption>A data.frame: 5 × 5</caption>\n",
       "<thead>\n",
       "\t<tr><th></th><th scope=col>Name</th><th scope=col>Direction.Secukinumab</th><th scope=col>FDR.Secukinumab</th><th scope=col>PValue.Secukinumab</th><th scope=col>NGenes.Secukinumab</th></tr>\n",
       "\t<tr><th></th><th scope=col>&lt;chr&gt;</th><th scope=col>&lt;chr&gt;</th><th scope=col>&lt;dbl&gt;</th><th scope=col>&lt;dbl&gt;</th><th scope=col>&lt;dbl&gt;</th></tr>\n",
       "</thead>\n",
       "<tbody>\n",
       "\t<tr><th scope=row>R-HSA-6805567</th><td>Keratinization                                   </td><td>Up  </td><td>4.945071e-09</td><td>1.989168e-12</td><td>174</td></tr>\n",
       "\t<tr><th scope=row>R-HSA-6809371</th><td>Formation of the cornified envelope              </td><td>Up  </td><td>5.907370e-03</td><td>4.752510e-06</td><td>113</td></tr>\n",
       "\t<tr><th scope=row>R-HSA-173623</th><td>Classical antibody-mediated complement activation</td><td>Down</td><td>2.816931e-02</td><td>3.748920e-05</td><td>  7</td></tr>\n",
       "\t<tr><th scope=row>R-HSA-977606</th><td>Regulation of Complement cascade                 </td><td>Down</td><td>2.816931e-02</td><td>4.532472e-05</td><td> 40</td></tr>\n",
       "\t<tr><th scope=row>R-HSA-166658</th><td>Complement cascade                               </td><td>Down</td><td>3.271989e-02</td><td>6.580830e-05</td><td> 49</td></tr>\n",
       "</tbody>\n",
       "</table>\n"
      ],
      "text/latex": [
       "A data.frame: 5 × 5\n",
       "\\begin{tabular}{r|lllll}\n",
       "  & Name & Direction.Secukinumab & FDR.Secukinumab & PValue.Secukinumab & NGenes.Secukinumab\\\\\n",
       "  & <chr> & <chr> & <dbl> & <dbl> & <dbl>\\\\\n",
       "\\hline\n",
       "\tR-HSA-6805567 & Keratinization                                    & Up   & 4.945071e-09 & 1.989168e-12 & 174\\\\\n",
       "\tR-HSA-6809371 & Formation of the cornified envelope               & Up   & 5.907370e-03 & 4.752510e-06 & 113\\\\\n",
       "\tR-HSA-173623 & Classical antibody-mediated complement activation & Down & 2.816931e-02 & 3.748920e-05 &   7\\\\\n",
       "\tR-HSA-977606 & Regulation of Complement cascade                  & Down & 2.816931e-02 & 4.532472e-05 &  40\\\\\n",
       "\tR-HSA-166658 & Complement cascade                                & Down & 3.271989e-02 & 6.580830e-05 &  49\\\\\n",
       "\\end{tabular}\n"
      ],
      "text/markdown": [
       "\n",
       "A data.frame: 5 × 5\n",
       "\n",
       "| <!--/--> | Name &lt;chr&gt; | Direction.Secukinumab &lt;chr&gt; | FDR.Secukinumab &lt;dbl&gt; | PValue.Secukinumab &lt;dbl&gt; | NGenes.Secukinumab &lt;dbl&gt; |\n",
       "|---|---|---|---|---|---|\n",
       "| R-HSA-6805567 | Keratinization                                    | Up   | 4.945071e-09 | 1.989168e-12 | 174 |\n",
       "| R-HSA-6809371 | Formation of the cornified envelope               | Up   | 5.907370e-03 | 4.752510e-06 | 113 |\n",
       "| R-HSA-173623 | Classical antibody-mediated complement activation | Down | 2.816931e-02 | 3.748920e-05 |   7 |\n",
       "| R-HSA-977606 | Regulation of Complement cascade                  | Down | 2.816931e-02 | 4.532472e-05 |  40 |\n",
       "| R-HSA-166658 | Complement cascade                                | Down | 3.271989e-02 | 6.580830e-05 |  49 |\n",
       "\n"
      ],
      "text/plain": [
       "              Name                                             \n",
       "R-HSA-6805567 Keratinization                                   \n",
       "R-HSA-6809371 Formation of the cornified envelope              \n",
       "R-HSA-173623  Classical antibody-mediated complement activation\n",
       "R-HSA-977606  Regulation of Complement cascade                 \n",
       "R-HSA-166658  Complement cascade                               \n",
       "              Direction.Secukinumab FDR.Secukinumab PValue.Secukinumab\n",
       "R-HSA-6805567 Up                    4.945071e-09    1.989168e-12      \n",
       "R-HSA-6809371 Up                    5.907370e-03    4.752510e-06      \n",
       "R-HSA-173623  Down                  2.816931e-02    3.748920e-05      \n",
       "R-HSA-977606  Down                  2.816931e-02    4.532472e-05      \n",
       "R-HSA-166658  Down                  3.271989e-02    6.580830e-05      \n",
       "              NGenes.Secukinumab\n",
       "R-HSA-6805567 174               \n",
       "R-HSA-6809371 113               \n",
       "R-HSA-173623    7               \n",
       "R-HSA-977606   40               \n",
       "R-HSA-166658   49               "
      ]
     },
     "metadata": {},
     "output_type": "display_data"
    }
   ],
   "source": [
    "my_pathways <- pathways(camera_res)\n",
    "\n",
    "my_pathways[1:5,1:5]"
   ]
  },
  {
   "cell_type": "markdown",
   "id": "3c2859ba-2baf-43f7-a5bb-dc7fd7a9bbd7",
   "metadata": {},
   "source": [
    "We can use the `plot_heatmap` function to get the data in a nice format for `ggplot2`:"
   ]
  },
  {
   "cell_type": "code",
   "execution_count": 33,
   "id": "db3f6f29-be9e-44f1-97d8-dda2c5ce47c1",
   "metadata": {},
   "outputs": [
    {
     "data": {
      "text/html": [
       "<table class=\"dataframe\">\n",
       "<caption>A tibble: 4 × 4</caption>\n",
       "<thead>\n",
       "\t<tr><th scope=col>Name</th><th scope=col>n_sig</th><th scope=col>dataset</th><th scope=col>direction</th></tr>\n",
       "\t<tr><th scope=col>&lt;chr&gt;</th><th scope=col>&lt;dbl&gt;</th><th scope=col>&lt;chr&gt;</th><th scope=col>&lt;fct&gt;</th></tr>\n",
       "</thead>\n",
       "<tbody>\n",
       "\t<tr><td>Keratinization                     </td><td>1</td><td>Secukinumab</td><td>sig Up    </td></tr>\n",
       "\t<tr><td>Keratinization                     </td><td>1</td><td>Ustekinumab</td><td>non-sig Up</td></tr>\n",
       "\t<tr><td>Keratinization                     </td><td>1</td><td>JAK        </td><td>non-sig Up</td></tr>\n",
       "\t<tr><td>Formation of the cornified envelope</td><td>1</td><td>Secukinumab</td><td>sig Up    </td></tr>\n",
       "</tbody>\n",
       "</table>\n"
      ],
      "text/latex": [
       "A tibble: 4 × 4\n",
       "\\begin{tabular}{llll}\n",
       " Name & n\\_sig & dataset & direction\\\\\n",
       " <chr> & <dbl> & <chr> & <fct>\\\\\n",
       "\\hline\n",
       "\t Keratinization                      & 1 & Secukinumab & sig Up    \\\\\n",
       "\t Keratinization                      & 1 & Ustekinumab & non-sig Up\\\\\n",
       "\t Keratinization                      & 1 & JAK         & non-sig Up\\\\\n",
       "\t Formation of the cornified envelope & 1 & Secukinumab & sig Up    \\\\\n",
       "\\end{tabular}\n"
      ],
      "text/markdown": [
       "\n",
       "A tibble: 4 × 4\n",
       "\n",
       "| Name &lt;chr&gt; | n_sig &lt;dbl&gt; | dataset &lt;chr&gt; | direction &lt;fct&gt; |\n",
       "|---|---|---|---|\n",
       "| Keratinization                      | 1 | Secukinumab | sig Up     |\n",
       "| Keratinization                      | 1 | Ustekinumab | non-sig Up |\n",
       "| Keratinization                      | 1 | JAK         | non-sig Up |\n",
       "| Formation of the cornified envelope | 1 | Secukinumab | sig Up     |\n",
       "\n"
      ],
      "text/plain": [
       "  Name                                n_sig dataset     direction \n",
       "1 Keratinization                      1     Secukinumab sig Up    \n",
       "2 Keratinization                      1     Ustekinumab non-sig Up\n",
       "3 Keratinization                      1     JAK         non-sig Up\n",
       "4 Formation of the cornified envelope 1     Secukinumab sig Up    "
      ]
     },
     "metadata": {},
     "output_type": "display_data"
    }
   ],
   "source": [
    "plot_data <- plot_heatmap(camera_res, return_data = TRUE)\n",
    "plot_data[1:4,]"
   ]
  },
  {
   "cell_type": "markdown",
   "id": "170f89f1-200a-4775-b461-6a0db551bc0a",
   "metadata": {},
   "source": [
    "We can now use `dplyr` to only select the pathways of interest."
   ]
  },
  {
   "cell_type": "code",
   "execution_count": 34,
   "id": "e4149bb7-6523-4d85-967a-540184806bb6",
   "metadata": {},
   "outputs": [],
   "source": [
    "plot_data <- plot_data %>%\n",
    "    # only pathways significantly changed in at least one dataset\n",
    "    filter(n_sig > 0) %>%\n",
    "    # additionally, limit to a selection of pathways of interest based on their name \n",
    "    # (this was only added after investigating the whole result)\n",
    "    filter(grepl(\"MHC\", Name) | grepl(\"Interferon\", Name) | grepl(\"Interleukin\", Name) | grepl(\"KIT\", Name) | grepl(\"TCR\", Name) | grepl(\"Immune\", Name) | grepl(\"Kreatin\", Name) | grepl(\"Cytokine\", Name) | grepl(\"Complement\", Name) | grepl(\"Antigen\", Name) | grepl(\"Chemokin\", Name))"
   ]
  },
  {
   "cell_type": "code",
   "execution_count": 35,
   "id": "2746a952-7e02-47a1-a144-aaa66e0a22ed",
   "metadata": {},
   "outputs": [
    {
     "name": "stderr",
     "output_type": "stream",
     "text": [
      "Comparing 1 vs 2\n",
      "\n",
      "Comparing 1 vs 3\n",
      "\n",
      "Comparing 2 vs 3\n",
      "\n",
      "Warning message:\n",
      "“Removed 15 rows containing missing values (geom_point).”\n"
     ]
    },
    {
     "data": {
      "image/png": "[encoded data removed]",
      "text/plain": [
       "plot without title"
      ]
     },
     "metadata": {
      "image/png": {
       "height": 360,
       "width": 480
      }
     },
     "output_type": "display_data"
    }
   ],
   "source": [
    "corr_plots <- plot_correlations(camera_res)\n",
    "\n",
    "options(repr.plot.width = 8, repr.plot.height = 6)\n",
    "\n",
    "p <- corr_plots[[1]] + cowplot::theme_cowplot()\n",
    "\n",
    "#svg(\"corr_plot.svg\", width = 8, height = 6)\n",
    "#print(p)\n",
    "#dev.off()\n",
    "\n",
    "p"
   ]
  },
  {
   "cell_type": "code",
   "execution_count": 36,
   "id": "dd97febd-27d2-4712-852c-82a1973a03dd",
   "metadata": {},
   "outputs": [
    {
     "data": {
      "text/html": [
       "<strong>png:</strong> 2"
      ],
      "text/latex": [
       "\\textbf{png:} 2"
      ],
      "text/markdown": [
       "**png:** 2"
      ],
      "text/plain": [
       "png \n",
       "  2 "
      ]
     },
     "metadata": {},
     "output_type": "display_data"
    },
    {
     "data": {
      "image/png": "[encoded data removed]",
      "text/plain": [
       "plot without title"
      ]
     },
     "metadata": {
      "image/png": {
       "height": 600,
       "width": 600
      }
     },
     "output_type": "display_data"
    }
   ],
   "source": [
    "options(repr.plot.width = 10, repr.plot.height = 10)\n",
    "# Use ggplot's geom_tile function to create a nice heatmap\n",
    "p <- ggplot(plot_data, aes(x = dataset, y = Name, fill = direction)) +\n",
    "    geom_tile() +\n",
    "    scale_fill_manual(values = c(\"#FDAE61\", \"#FEE090\", \"#E0F3F8\", \"#4575B4\")) +\n",
    "    theme(axis.text.x = element_text(angle = 90, vjust = 0.5, hjust=0.5)) +\n",
    "    theme(text = element_text(size = 18)) +\n",
    "    labs(x = \"\", y = \"\", fill = \"Regulation\")\n",
    "\n",
    "svg(\"heatmap.svg\", width = 10, height = 10)\n",
    "print(p)\n",
    "dev.off()\n",
    "\n",
    "p"
   ]
  },
  {
   "cell_type": "markdown",
   "id": "c4ba3e43-56e6-4d0b-92c7-9674a6754ed4",
   "metadata": {},
   "source": [
    "We can immediately see, that only treatment with JAK-inhibitors led to a significant down-regulation of several immune-related pathways."
   ]
  },
  {
   "cell_type": "markdown",
   "id": "148ee458-9773-4640-a1b1-c1ee1e640c2c",
   "metadata": {},
   "source": [
    "# Time Series Analysis\n",
    "\n",
    "Timeseries data can be analysed in `ReactomeGSA` by adding the same dataset multiple times with different comparisons.\n",
    "\n",
    "Here, we will test how the difference between treatment and Placebo group changed over time for the JAK inhibitor study."
   ]
  },
  {
   "cell_type": "code",
   "execution_count": 37,
   "id": "9738af3d-5213-4d9d-bef4-19ce5fa57bfd",
   "metadata": {},
   "outputs": [
    {
     "name": "stderr",
     "output_type": "stream",
     "text": [
      "`summarise()` has grouped output by 'treatment:ch1'. You can override using the `.groups` argument.\n",
      "\n"
     ]
    },
    {
     "data": {
      "text/html": [
       "<table class=\"dataframe\">\n",
       "<caption>A grouped_df: 12 × 3</caption>\n",
       "<thead>\n",
       "\t<tr><th scope=col>treatment:ch1</th><th scope=col>week:ch1</th><th scope=col>n</th></tr>\n",
       "\t<tr><th scope=col>&lt;chr&gt;</th><th scope=col>&lt;chr&gt;</th><th scope=col>&lt;int&gt;</th></tr>\n",
       "</thead>\n",
       "<tbody>\n",
       "\t<tr><td>20mg   </td><td>Day1 </td><td>14</td></tr>\n",
       "\t<tr><td>20mg   </td><td>Day15</td><td> 4</td></tr>\n",
       "\t<tr><td>20mg   </td><td>Day29</td><td> 7</td></tr>\n",
       "\t<tr><td>40mg   </td><td>Day1 </td><td>16</td></tr>\n",
       "\t<tr><td>40mg   </td><td>Day15</td><td> 7</td></tr>\n",
       "\t<tr><td>40mg   </td><td>Day29</td><td> 6</td></tr>\n",
       "\t<tr><td>80mg   </td><td>Day1 </td><td>16</td></tr>\n",
       "\t<tr><td>80mg   </td><td>Day15</td><td> 6</td></tr>\n",
       "\t<tr><td>80mg   </td><td>Day29</td><td> 8</td></tr>\n",
       "\t<tr><td>Placebo</td><td>Day1 </td><td>14</td></tr>\n",
       "\t<tr><td>Placebo</td><td>Day15</td><td> 5</td></tr>\n",
       "\t<tr><td>Placebo</td><td>Day29</td><td> 8</td></tr>\n",
       "</tbody>\n",
       "</table>\n"
      ],
      "text/latex": [
       "A grouped\\_df: 12 × 3\n",
       "\\begin{tabular}{lll}\n",
       " treatment:ch1 & week:ch1 & n\\\\\n",
       " <chr> & <chr> & <int>\\\\\n",
       "\\hline\n",
       "\t 20mg    & Day1  & 14\\\\\n",
       "\t 20mg    & Day15 &  4\\\\\n",
       "\t 20mg    & Day29 &  7\\\\\n",
       "\t 40mg    & Day1  & 16\\\\\n",
       "\t 40mg    & Day15 &  7\\\\\n",
       "\t 40mg    & Day29 &  6\\\\\n",
       "\t 80mg    & Day1  & 16\\\\\n",
       "\t 80mg    & Day15 &  6\\\\\n",
       "\t 80mg    & Day29 &  8\\\\\n",
       "\t Placebo & Day1  & 14\\\\\n",
       "\t Placebo & Day15 &  5\\\\\n",
       "\t Placebo & Day29 &  8\\\\\n",
       "\\end{tabular}\n"
      ],
      "text/markdown": [
       "\n",
       "A grouped_df: 12 × 3\n",
       "\n",
       "| treatment:ch1 &lt;chr&gt; | week:ch1 &lt;chr&gt; | n &lt;int&gt; |\n",
       "|---|---|---|\n",
       "| 20mg    | Day1  | 14 |\n",
       "| 20mg    | Day15 |  4 |\n",
       "| 20mg    | Day29 |  7 |\n",
       "| 40mg    | Day1  | 16 |\n",
       "| 40mg    | Day15 |  7 |\n",
       "| 40mg    | Day29 |  6 |\n",
       "| 80mg    | Day1  | 16 |\n",
       "| 80mg    | Day15 |  6 |\n",
       "| 80mg    | Day29 |  8 |\n",
       "| Placebo | Day1  | 14 |\n",
       "| Placebo | Day15 |  5 |\n",
       "| Placebo | Day29 |  8 |\n",
       "\n"
      ],
      "text/plain": [
       "   treatment:ch1 week:ch1 n \n",
       "1  20mg          Day1     14\n",
       "2  20mg          Day15     4\n",
       "3  20mg          Day29     7\n",
       "4  40mg          Day1     16\n",
       "5  40mg          Day15     7\n",
       "6  40mg          Day29     6\n",
       "7  80mg          Day1     16\n",
       "8  80mg          Day15     6\n",
       "9  80mg          Day29     8\n",
       "10 Placebo       Day1     14\n",
       "11 Placebo       Day15     5\n",
       "12 Placebo       Day29     8"
      ]
     },
     "metadata": {},
     "output_type": "display_data"
    }
   ],
   "source": [
    "# The JAK datasets contains several timepoints\n",
    "pData(jak_gset) %>%\n",
    "    group_by(`treatment:ch1`, `week:ch1`) %>%\n",
    "    summarise(n = n())"
   ]
  },
  {
   "cell_type": "code",
   "execution_count": 38,
   "id": "06478421-4b90-4f21-baf1-27a077f0ca23",
   "metadata": {},
   "outputs": [
    {
     "name": "stderr",
     "output_type": "stream",
     "text": [
      "Converting expression data to string... (This may take a moment)\n",
      "\n",
      "Conversion complete\n",
      "\n",
      "Converting expression data to string... (This may take a moment)\n",
      "\n",
      "Conversion complete\n",
      "\n",
      "Converting expression data to string... (This may take a moment)\n",
      "\n",
      "Conversion complete\n",
      "\n",
      "Submitting request to Reactome API...\n",
      "\n",
      "Compressing request data...\n",
      "\n",
      "Reactome Analysis submitted succesfully\n",
      "\n",
      "Converting dataset Day1...\n",
      "\n",
      "Converting dataset Day15...\n",
      "\n",
      "Converting dataset Day29...\n",
      "\n",
      "Mapping identifiers...\n",
      "\n",
      "Performing gene set analysis using Camera\n",
      "\n",
      "Analysing dataset 'Day1' using Camera\n",
      "\n",
      "Analysing dataset 'Day15' using Camera\n",
      "\n",
      "Analysing dataset 'Day29' using Camera\n",
      "\n",
      "Creating REACTOME visualization\n",
      "\n",
      "Retrieving result...\n",
      "\n"
     ]
    }
   ],
   "source": [
    "# Create a new ReactomeAnalysisRequest object\n",
    "jak_request <- ReactomeAnalysisRequest(method = \"Camera\")\n",
    "\n",
    "# First, only use samples from day 1\n",
    "jak_request <- add_dataset(jak_request, \n",
    "                    expression_values = jak_gset[, jak_gset$`week:ch1` == \"Day1\"], \n",
    "                    name = \"Day1\", \n",
    "                    type = \"microarray_norm\", \n",
    "                    comparison_factor = \"treatment:ch1\", \n",
    "                    comparison_group_1 = \"Placebo\", \n",
    "                    comparison_group_2 = \"80mg\")\n",
    "\n",
    "# Next, we add day 15\n",
    "jak_request <- add_dataset(jak_request, \n",
    "                    expression_values = jak_gset[, jak_gset$`week:ch1` == \"Day15\"], \n",
    "                    name = \"Day15\", \n",
    "                    type = \"microarray_norm\", \n",
    "                    comparison_factor = \"treatment:ch1\", \n",
    "                    comparison_group_1 = \"Placebo\", \n",
    "                    comparison_group_2 = \"80mg\")\n",
    "\n",
    "# Finally, day 29\n",
    "jak_request <- add_dataset(jak_request, \n",
    "                    expression_values = jak_gset[, jak_gset$`week:ch1` == \"Day29\"], \n",
    "                    name = \"Day29\", \n",
    "                    type = \"microarray_norm\", \n",
    "                    comparison_factor = \"treatment:ch1\", \n",
    "                    comparison_group_1 = \"Placebo\", \n",
    "                    comparison_group_2 = \"80mg\")\n",
    "\n",
    "# And simply start the analysis\n",
    "jak_dose_result <- perform_reactome_analysis(jak_request)"
   ]
  },
  {
   "cell_type": "markdown",
   "id": "01896d32-812b-4fd1-a04b-f5fe23faf240",
   "metadata": {},
   "source": [
    "We can now again use our previous custom plotting function, to get an overview over regulated immune pathways:"
   ]
  },
  {
   "cell_type": "code",
   "execution_count": 39,
   "id": "33204d67-de5e-4e0a-bf24-5b407a415b0a",
   "metadata": {},
   "outputs": [],
   "source": [
    "plot_data <- plot_heatmap(jak_dose_result, return_data = TRUE) %>%\n",
    "    # only pathways significantly changed in at least one dataset\n",
    "    filter(n_sig > 0) %>%\n",
    "    # additionally, limit to a selection of pathways of interest based on their name \n",
    "    # (this was only added after investigating the whole result)\n",
    "    filter(grepl(\"MHC\", Name) | grepl(\"Interferon\", Name) | grepl(\"Interleukin\", Name) | grepl(\"KIT\", Name) | grepl(\"TCR\", Name) | grepl(\"Immune\", Name) | grepl(\"Kreatin\", Name) | grepl(\"Cytokine\", Name) | grepl(\"Complement\", Name) | grepl(\"Antigen\", Name) | grepl(\"Chemokin\", Name))"
   ]
  },
  {
   "cell_type": "code",
   "execution_count": 40,
   "id": "09b05908-5954-4dbd-a3e2-92752633313a",
   "metadata": {},
   "outputs": [
    {
     "data": {
      "text/html": [
       "<strong>png:</strong> 2"
      ],
      "text/latex": [
       "\\textbf{png:} 2"
      ],
      "text/markdown": [
       "**png:** 2"
      ],
      "text/plain": [
       "png \n",
       "  2 "
      ]
     },
     "metadata": {},
     "output_type": "display_data"
    },
    {
     "data": {
      "image/png": "[encoded data removed]",
      "text/plain": [
       "plot without title"
      ]
     },
     "metadata": {
      "image/png": {
       "height": 420,
       "width": 600
      }
     },
     "output_type": "display_data"
    }
   ],
   "source": [
    "options(repr.plot.width = 10, repr.plot.height = 7)\n",
    "# Use ggplot's geom_tile function to create a nice heatmap\n",
    "p <- ggplot(plot_data, aes(x = dataset, y = Name, fill = direction)) +\n",
    "    geom_tile() +\n",
    "    scale_fill_manual(values = c(\"#FDAE61\", \"#FEE090\", \"#E0F3F8\", \"#4575B4\")) +\n",
    "    theme(axis.text.x = element_text(angle = 90, vjust = 0.5, hjust=0.5)) +\n",
    "    theme(text = element_text(size = 18)) +\n",
    "    labs(x = \"\", y = \"\", fill = \"Regulation\")\n",
    "\n",
    "svg(\"time_series.svg\", width = 10, height = 7)\n",
    "print(p)\n",
    "dev.off()\n",
    "\n",
    "p"
   ]
  },
  {
   "cell_type": "markdown",
   "id": "c40b9488-8373-4ced-a432-b5d32f7bf093",
   "metadata": {},
   "source": [
    "As expected, most immune pathways are only down-regulated starting from day 15."
   ]
  },
  {
   "cell_type": "markdown",
   "id": "ae03b052-a96f-4943-b785-b6833cf790ff",
   "metadata": {},
   "source": [
    "# SessionInfo"
   ]
  },
  {
   "cell_type": "code",
   "execution_count": 3,
   "id": "d08a739f-9437-458d-997b-9f743fd53bdd",
   "metadata": {},
   "outputs": [
    {
     "data": {
      "text/plain": [
       "R version 4.1.2 (2021-11-01)\n",
       "Platform: x86_64-pc-linux-gnu (64-bit)\n",
       "Running under: Ubuntu 20.04.4 LTS\n",
       "\n",
       "Matrix products: default\n",
       "BLAS:   /usr/lib/x86_64-linux-gnu/blas/libblas.so.3.9.0\n",
       "LAPACK: /usr/lib/x86_64-linux-gnu/lapack/liblapack.so.3.9.0\n",
       "\n",
       "locale:\n",
       " [1] LC_CTYPE=en_US.UTF-8       LC_NUMERIC=C              \n",
       " [3] LC_TIME=en_US.UTF-8        LC_COLLATE=en_US.UTF-8    \n",
       " [5] LC_MONETARY=en_US.UTF-8    LC_MESSAGES=en_US.UTF-8   \n",
       " [7] LC_PAPER=en_US.UTF-8       LC_NAME=C                 \n",
       " [9] LC_ADDRESS=C               LC_TELEPHONE=C            \n",
       "[11] LC_MEASUREMENT=en_US.UTF-8 LC_IDENTIFICATION=C       \n",
       "\n",
       "attached base packages:\n",
       "[1] parallel  stats     graphics  grDevices utils     datasets  methods  \n",
       "[8] base     \n",
       "\n",
       "other attached packages:\n",
       "[1] GEOquery_2.60.0     Biobase_2.52.0      BiocGenerics_0.38.0\n",
       "[4] ggplot2_3.3.5       dplyr_1.0.7         readr_2.0.2        \n",
       "[7] tidyr_1.1.4         ReactomeGSA_1.7.4  \n",
       "\n",
       "loaded via a namespace (and not attached):\n",
       " [1] pillar_1.6.4        compiler_4.1.2      BiocManager_1.30.16\n",
       " [4] bitops_1.0-7        base64enc_0.1-3     tools_4.1.2        \n",
       " [7] digest_0.6.29       uuid_0.1-4          jsonlite_1.7.2     \n",
       "[10] evaluate_0.14       lifecycle_1.0.1     tibble_3.1.6       \n",
       "[13] gtable_0.3.0        pkgconfig_2.0.3     rlang_0.4.12       \n",
       "[16] IRdisplay_1.0       DBI_1.1.1           IRkernel_1.2       \n",
       "[19] fastmap_1.1.0       xml2_1.3.2          withr_2.4.3        \n",
       "[22] repr_1.1.3          hms_1.1.1           caTools_1.18.2     \n",
       "[25] gtools_3.9.2        generics_0.1.1      vctrs_0.3.8        \n",
       "[28] grid_4.1.2          tidyselect_1.1.1    glue_1.5.1         \n",
       "[31] R6_2.5.1            fansi_0.5.0         limma_3.48.3       \n",
       "[34] pbdZMQ_0.3-5        tzdb_0.1.2          purrr_0.3.4        \n",
       "[37] magrittr_2.0.1      scales_1.1.1        gplots_3.1.1       \n",
       "[40] ellipsis_0.3.2      htmltools_0.5.2     assertthat_0.2.1   \n",
       "[43] colorspace_2.0-2    KernSmooth_2.23-20  utf8_1.2.2         \n",
       "[46] munsell_0.5.0       crayon_1.4.2       "
      ]
     },
     "metadata": {},
     "output_type": "display_data"
    }
   ],
   "source": [
    "sessionInfo()"
   ]
  }
 ],
 "metadata": {
  "kernelspec": {
   "display_name": "R",
   "language": "R",
   "name": "ir"
  },
  "language_info": {
   "codemirror_mode": "r",
   "file_extension": ".r",
   "mimetype": "text/x-r-source",
   "name": "R",
   "pygments_lexer": "r",
   "version": "4.1.2"
  },
  "toc-autonumbering": false
 },
 "nbformat": 4,
 "nbformat_minor": 5
}
